{
 "cells": [
  {
   "cell_type": "markdown",
   "metadata": {},
   "source": [
    "# <center>PGP Data Science Engineering</center>\n",
    "## <center>Introduction to Programming – Mini Project:</center>\n"
   ]
  },
  {
   "cell_type": "markdown",
   "metadata": {},
   "source": [
    "### Problem 1:\n",
    "\n",
    "1. Write a program to calculate area of shapes. Your program should be capable of calculating the area of a square, rectangle, triangle and a circle. The user should be presented with options to select the shape. Based on which shape is chosed by the user, the program should ask for the appropriate input and print the resulting area on the screen.\n",
    "\n",
    "When the program is run, the screen should display something like this:\n",
    "\n",
    "**Which shape would you like to calculate the area for? Please enter the option number-**<br>\n",
    "**1. Square**<br>\n",
    "**2. Rectangle**<br>\n",
    "**3. Triangle**<br>\n",
    "**4. Circle**<br>\n",
    "**Enter Option: _**\n",
    "\n",
    "Say the user enters the option 1.\n",
    "\n",
    "**Please enter the length of a side: _**\n",
    "\n",
    "If the user enters a value of 5. The output should be:\n",
    "\n",
    "**The area of the square is 25**\n",
    "\n",
    "This program should indicate that the input is invalid if the user enters a character instead of a number as input. For instance if the user enters a value of ‘a’ instead of 5 in the previous example the program should prompt:\n",
    "\n",
    "**Invalid input, please enter a number: _**\n"
   ]
  },
  {
   "cell_type": "code",
   "execution_count": 10,
   "metadata": {},
   "outputs": [
    {
     "name": "stdout",
     "output_type": "stream",
     "text": [
      "which shape would you like to calculate the 'AREA' for? 1.Square 2.Rectangle 3.Triangle 4.Circle 4\n",
      "enter radius of a circle 50\n",
      "area of circle =  7857.142857142857\n"
     ]
    }
   ],
   "source": [
    "##area calculator\n",
    "choice= int(input(\"which shape would you like to calculate the 'AREA' for? 1.Square 2.Rectangle 3.Triangle 4.Circle \"))\n",
    "if choice==1:\n",
    "    def areaofsquare():\n",
    "        while True:\n",
    "            a=input('enter a value ')\n",
    "            if a.isalpha():\n",
    "                print(\"invalid input,please enter a number\")\n",
    "                continue\n",
    "            else:\n",
    "                a=float(a)\n",
    "                area=a**2\n",
    "                print(\"area of square =\" ,area)\n",
    "                break\n",
    "    areaofsquare()\n",
    "elif choice==2:\n",
    "    def areaofrectangle():\n",
    "        while True:\n",
    "            base=input(\"enter base of the rectangle : \")\n",
    "            if base.isalpha() :\n",
    "                print(\"invalid input,please enter a number\")\n",
    "                continue\n",
    "                height=input(\"enter height of the rectangle : \")\n",
    "            if height.isalpha():\n",
    "                print(\"invalid input,please enter a number \")\n",
    "            else:\n",
    "                base=float(base)\n",
    "                height=float(height)\n",
    "                area_of_rectangle=base*height\n",
    "                print(\"area of rectangle = \",area_of_rectangle)\n",
    "                break\n",
    "    areaofrectangle()\n",
    "elif choice==3:\n",
    "    def areaoftriangle():\n",
    "        while True:\n",
    "            b=input(\"enter base of a triangle : \")\n",
    "            if b.isalpha():\n",
    "                print(\"invalid input, please enter a number\")\n",
    "                continue\n",
    "            c=input(\"enter height of a triangle : \")\n",
    "            if c.isalpha():\n",
    "                 print(\"invalid input, please enter a number \")\n",
    "            else:\n",
    "                b=float(b)\n",
    "                c=float(c)\n",
    "                area_of_triangle=(1/2)*b*c\n",
    "                print(\"area of triangle = \",area_of_triangle)\n",
    "                break\n",
    "    areaoftriangle()\n",
    "elif choice==4:\n",
    "    def areaofcircle():\n",
    "        while True:\n",
    "            r=input(\"enter radius of a circle \")\n",
    "            if r.isalpha():\n",
    "                print(\"invalid input,please enter a number\")\n",
    "                continue\n",
    "            else:\n",
    "                r=float(r)\n",
    "                area_of_circle=22/7*r**2\n",
    "                print(\"area of circle = \",area_of_circle)\n",
    "               \n",
    "                break\n",
    "    areaofcircle()\n",
    "else:\n",
    "    print(\"invalid input, please try again\")"
   ]
  },
  {
   "cell_type": "markdown",
   "metadata": {},
   "source": [
    "**### Problem 2:\n",
    "\n",
    "Create and encrypter in python based on the ceaser cipher. It is a substitution cipher where each character of the original text is shifted a certain number characters in the alphabet. Write a function that would require 2 arguments – the input text to be encrypted and a key. For eg: Given the input text ‘hello’ and the key 3, the resulting encryted text would be ‘khoor’. Here you can see that every character in the string hello is shifted by 3 characters. ‘h’ has shifted to ‘k’, ‘e’ has shifted to ‘h’ and so on. If a key of 5 were used, the resulting string would be ‘mjqqt’. This function should be capable of ignoring any characters which are not alphabets. Th2 character ‘z’ entered b\n",
    "y the user for a key of 3 would result in ‘c’.\n",
    "\n",
    "Usage:<br>\n",
    "**encrypt(‘hello world!’, 3)**<br>\n",
    "**‘khoor zruog!’**\n",
    "\n",
    "Similarly create decrypter which can decode the encryted text when provided the input text and key\n",
    "\n",
    "Usage:<br>\n",
    "**decrypt(‘khoor zruog!’, 3)**<br>\n",
    "**‘hello world!’**\n",
    "\n",
    "For the sake of simplicity you can assume that input solely consists of lowercase alphabets, spaces and punctuation symbols. Numbers in the input text would also be ignored similar to symbols."
   ]
  },
  {
   "cell_type": "code",
   "execution_count": 1,
   "metadata": {},
   "outputs": [
    {
     "name": "stdout",
     "output_type": "stream",
     "text": [
      "enter the text : charan\n",
      "enter the shift key : 3\n",
      "the encrypted message is :   fkdudq\n",
      "enter the text to be decoded : fkdudq\n",
      "enter the shift key: 3\n",
      "the decrypted messaage is :   charan\n"
     ]
    }
   ],
   "source": [
    "def encrypted(string,key):\n",
    "    cipher=\" \"\n",
    "    for char in string:\n",
    "        if char== \" \":\n",
    "            cipher=cipher+char\n",
    "        elif char.isupper():\n",
    "            cipher=cipher+chr((ord(char)+key-65)%26+65)\n",
    "        else:\n",
    "            cipher=cipher+chr((ord(char)+key-97)%26+97)\n",
    "    return cipher\n",
    "code=input(\"enter the text : \")\n",
    "s=int(input(\"enter the shift key : \"))\n",
    "print(\"the encrypted message is : \",encrypted(code,s))\n",
    "def decrypted(string,key):\n",
    "    cipher1=\" \"\n",
    "    for char in string:\n",
    "        if char==\" \":\n",
    "            cipher1=cipher1+char\n",
    "        elif char.isupper():\n",
    "            cipher1=cipher1+chr((ord(char)-key-65)%26+65)\n",
    "        else:\n",
    "            cipher1=cipher1+chr((ord(char)-key-97)%26+97)\n",
    "    return cipher1\n",
    "decode=input(\"enter the text to be decoded : \")\n",
    "s1=int(input(\"enter the shift key: \"))\n",
    "print(\"the decrypted messaage is : \",decrypted(decode,s1))\n",
    "            "
   ]
  },
  {
   "cell_type": "code",
   "execution_count": 4,
   "metadata": {},
   "outputs": [],
   "source": []
  }
 ],
 "metadata": {
  "kernelspec": {
   "display_name": "Python 3",
   "language": "python",
   "name": "python3"
  },
  "language_info": {
   "codemirror_mode": {
    "name": "ipython",
    "version": 3
   },
   "file_extension": ".py",
   "mimetype": "text/x-python",
   "name": "python",
   "nbconvert_exporter": "python",
   "pygments_lexer": "ipython3",
   "version": "3.8.5"
  }
 },
 "nbformat": 4,
 "nbformat_minor": 2
}
